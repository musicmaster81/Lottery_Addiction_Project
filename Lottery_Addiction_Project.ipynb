{
 "cells": [
  {
   "cell_type": "markdown",
   "metadata": {},
   "source": [
    "# Lottery Addiction Project"
   ]
  },
  {
   "cell_type": "markdown",
   "metadata": {},
   "source": [
    "### Introduction"
   ]
  },
  {
   "cell_type": "markdown",
   "metadata": {},
   "source": [
    "It comes as no surprise that gambling addiction, while not necessarily detrimental to an individuals health, is one of the worst forms of addiction that an individual can succumb to. With the constant legalization of sports betting in particular, it appears that more people will unfortunately become addicted to gambling.\n",
    "\n",
    "However, as a Data Scientist, Probability and Statistics are two of our most powerful weapons to generate meaningful insight out of data. We will use these tools to create a makeshift app that operates on the following logic to help these addicts:\n",
    "- What is the probability of winning the big prize in a single ticket?\n",
    "- What is the probability of winning a prize if we play 40 tickets?\n",
    "- What is the probability of having at lest 5 winning numbers on a single lottery ticket?\n",
    "\n",
    "The dataset we will be using comes from the 6/49 lottery game from Canada and has 3,665 drawings dating back to 1982 up to 2018."
   ]
  },
  {
   "cell_type": "markdown",
   "metadata": {},
   "source": [
    "### Preprocessing"
   ]
  },
  {
   "cell_type": "markdown",
   "metadata": {},
   "source": [
    "Some of the most useful formulas for these types of problems are the combination and permutation formulas. As a result, we will create functions in this step that applies those formulas instantly:"
   ]
  },
  {
   "cell_type": "code",
   "execution_count": 1,
   "metadata": {
    "collapsed": false
   },
   "outputs": [],
   "source": [
    "# First we create a factorial function\n",
    "def factorial(n):\n",
    "    product = 1\n",
    "    for i in range(1, n+1):\n",
    "        product = product * i\n",
    "        i += 1\n",
    "    return product"
   ]
  },
  {
   "cell_type": "code",
   "execution_count": 2,
   "metadata": {
    "collapsed": false
   },
   "outputs": [
    {
     "name": "stdout",
     "output_type": "stream",
     "text": [
      "120\n",
      "362880\n"
     ]
    }
   ],
   "source": [
    "# Let's test our function to make sure it works: 5! and 9! equal 120 and 362,880\n",
    "print(factorial(5))\n",
    "print(factorial(9))"
   ]
  },
  {
   "cell_type": "code",
   "execution_count": 3,
   "metadata": {
    "collapsed": false
   },
   "outputs": [
    {
     "name": "stdout",
     "output_type": "stream",
     "text": [
      "10.0\n"
     ]
    }
   ],
   "source": [
    "# Now we create a function that computes our combination formula\n",
    "def combination(n, k):\n",
    "    formula = factorial(n) / (factorial(k) * factorial(n-k))\n",
    "    return formula\n",
    "\n",
    "# Again, let's check that it works C(5,3) = 10\n",
    "print(combination(5, 3))"
   ]
  },
  {
   "cell_type": "markdown",
   "metadata": {},
   "source": [
    "### Problem Setup"
   ]
  },
  {
   "cell_type": "markdown",
   "metadata": {},
   "source": [
    "Recall that the dataset we are working with is from the 6/49 lottery game in Canada. The first thing to explain are the rules surrounding the competition.\n",
    "\n",
    "A player selects 6 numbers ranging form 1-49. Six numbers are then drawn later in the evening, and if a player has selected the 6 numbers drawn on their ticket, they win the jackpot. "
   ]
  },
  {
   "cell_type": "markdown",
   "metadata": {},
   "source": [
    "### Probability Calculations"
   ]
  },
  {
   "cell_type": "markdown",
   "metadata": {},
   "source": [
    "Recall that our first goal is to answer the question, \"What is the probability of getting the jackpot on a single ticket?\". We answer that question now."
   ]
  },
  {
   "cell_type": "code",
   "execution_count": 4,
   "metadata": {
    "collapsed": false
   },
   "outputs": [
    {
     "name": "stdout",
     "output_type": "stream",
     "text": [
      "The probability that [1, 2, 3, 4, 5, 6] is the right answer is 7.151123842018516e-06%.\n"
     ]
    }
   ],
   "source": [
    "def one_ticket_probability(six_number_list):\n",
    "    total_possible_outcomes = combination(49, 6)  # Out of 49 numbers, we choose 6 hoping to win\n",
    "    probability = (1 / total_possible_outcomes) * 100  # We are only right a single time\n",
    "    return \"The probability that {} is the right answer is {}%.\".format(six_number_list, probability)\n",
    "\n",
    "# We now test our function\n",
    "print(one_ticket_probability([1, 2, 3, 4, 5, 6]))"
   ]
  },
  {
   "cell_type": "code",
   "execution_count": 5,
   "metadata": {
    "collapsed": false
   },
   "outputs": [
    {
     "name": "stdout",
     "output_type": "stream",
     "text": [
      "(3665, 11)\n"
     ]
    },
    {
     "data": {
      "text/html": [
       "<div>\n",
       "<style scoped>\n",
       "    .dataframe tbody tr th:only-of-type {\n",
       "        vertical-align: middle;\n",
       "    }\n",
       "\n",
       "    .dataframe tbody tr th {\n",
       "        vertical-align: top;\n",
       "    }\n",
       "\n",
       "    .dataframe thead th {\n",
       "        text-align: right;\n",
       "    }\n",
       "</style>\n",
       "<table border=\"1\" class=\"dataframe\">\n",
       "  <thead>\n",
       "    <tr style=\"text-align: right;\">\n",
       "      <th></th>\n",
       "      <th>PRODUCT</th>\n",
       "      <th>DRAW NUMBER</th>\n",
       "      <th>SEQUENCE NUMBER</th>\n",
       "      <th>DRAW DATE</th>\n",
       "      <th>NUMBER DRAWN 1</th>\n",
       "      <th>NUMBER DRAWN 2</th>\n",
       "      <th>NUMBER DRAWN 3</th>\n",
       "      <th>NUMBER DRAWN 4</th>\n",
       "      <th>NUMBER DRAWN 5</th>\n",
       "      <th>NUMBER DRAWN 6</th>\n",
       "      <th>BONUS NUMBER</th>\n",
       "    </tr>\n",
       "  </thead>\n",
       "  <tbody>\n",
       "    <tr>\n",
       "      <th>0</th>\n",
       "      <td>649</td>\n",
       "      <td>1</td>\n",
       "      <td>0</td>\n",
       "      <td>6/12/1982</td>\n",
       "      <td>3</td>\n",
       "      <td>11</td>\n",
       "      <td>12</td>\n",
       "      <td>14</td>\n",
       "      <td>41</td>\n",
       "      <td>43</td>\n",
       "      <td>13</td>\n",
       "    </tr>\n",
       "    <tr>\n",
       "      <th>1</th>\n",
       "      <td>649</td>\n",
       "      <td>2</td>\n",
       "      <td>0</td>\n",
       "      <td>6/19/1982</td>\n",
       "      <td>8</td>\n",
       "      <td>33</td>\n",
       "      <td>36</td>\n",
       "      <td>37</td>\n",
       "      <td>39</td>\n",
       "      <td>41</td>\n",
       "      <td>9</td>\n",
       "    </tr>\n",
       "    <tr>\n",
       "      <th>2</th>\n",
       "      <td>649</td>\n",
       "      <td>3</td>\n",
       "      <td>0</td>\n",
       "      <td>6/26/1982</td>\n",
       "      <td>1</td>\n",
       "      <td>6</td>\n",
       "      <td>23</td>\n",
       "      <td>24</td>\n",
       "      <td>27</td>\n",
       "      <td>39</td>\n",
       "      <td>34</td>\n",
       "    </tr>\n",
       "  </tbody>\n",
       "</table>\n",
       "</div>"
      ],
      "text/plain": [
       "   PRODUCT  DRAW NUMBER  SEQUENCE NUMBER  DRAW DATE  NUMBER DRAWN 1  \\\n",
       "0      649            1                0  6/12/1982               3   \n",
       "1      649            2                0  6/19/1982               8   \n",
       "2      649            3                0  6/26/1982               1   \n",
       "\n",
       "   NUMBER DRAWN 2  NUMBER DRAWN 3  NUMBER DRAWN 4  NUMBER DRAWN 5  \\\n",
       "0              11              12              14              41   \n",
       "1              33              36              37              39   \n",
       "2               6              23              24              27   \n",
       "\n",
       "   NUMBER DRAWN 6  BONUS NUMBER  \n",
       "0              43            13  \n",
       "1              41             9  \n",
       "2              39            34  "
      ]
     },
     "execution_count": 5,
     "metadata": {},
     "output_type": "execute_result"
    }
   ],
   "source": [
    "# We now wish to view the historical data for the competition\n",
    "import pandas as pd\n",
    "lottery_history = pd.read_csv('649.csv')\n",
    "print(lottery_history.shape)\n",
    "lottery_history.head(3)"
   ]
  },
  {
   "cell_type": "code",
   "execution_count": 6,
   "metadata": {
    "collapsed": false
   },
   "outputs": [
    {
     "data": {
      "text/html": [
       "<div>\n",
       "<style scoped>\n",
       "    .dataframe tbody tr th:only-of-type {\n",
       "        vertical-align: middle;\n",
       "    }\n",
       "\n",
       "    .dataframe tbody tr th {\n",
       "        vertical-align: top;\n",
       "    }\n",
       "\n",
       "    .dataframe thead th {\n",
       "        text-align: right;\n",
       "    }\n",
       "</style>\n",
       "<table border=\"1\" class=\"dataframe\">\n",
       "  <thead>\n",
       "    <tr style=\"text-align: right;\">\n",
       "      <th></th>\n",
       "      <th>PRODUCT</th>\n",
       "      <th>DRAW NUMBER</th>\n",
       "      <th>SEQUENCE NUMBER</th>\n",
       "      <th>DRAW DATE</th>\n",
       "      <th>NUMBER DRAWN 1</th>\n",
       "      <th>NUMBER DRAWN 2</th>\n",
       "      <th>NUMBER DRAWN 3</th>\n",
       "      <th>NUMBER DRAWN 4</th>\n",
       "      <th>NUMBER DRAWN 5</th>\n",
       "      <th>NUMBER DRAWN 6</th>\n",
       "      <th>BONUS NUMBER</th>\n",
       "    </tr>\n",
       "  </thead>\n",
       "  <tbody>\n",
       "    <tr>\n",
       "      <th>3662</th>\n",
       "      <td>649</td>\n",
       "      <td>3589</td>\n",
       "      <td>0</td>\n",
       "      <td>6/13/2018</td>\n",
       "      <td>6</td>\n",
       "      <td>22</td>\n",
       "      <td>24</td>\n",
       "      <td>31</td>\n",
       "      <td>32</td>\n",
       "      <td>34</td>\n",
       "      <td>16</td>\n",
       "    </tr>\n",
       "    <tr>\n",
       "      <th>3663</th>\n",
       "      <td>649</td>\n",
       "      <td>3590</td>\n",
       "      <td>0</td>\n",
       "      <td>6/16/2018</td>\n",
       "      <td>2</td>\n",
       "      <td>15</td>\n",
       "      <td>21</td>\n",
       "      <td>31</td>\n",
       "      <td>38</td>\n",
       "      <td>49</td>\n",
       "      <td>8</td>\n",
       "    </tr>\n",
       "    <tr>\n",
       "      <th>3664</th>\n",
       "      <td>649</td>\n",
       "      <td>3591</td>\n",
       "      <td>0</td>\n",
       "      <td>6/20/2018</td>\n",
       "      <td>14</td>\n",
       "      <td>24</td>\n",
       "      <td>31</td>\n",
       "      <td>35</td>\n",
       "      <td>37</td>\n",
       "      <td>48</td>\n",
       "      <td>17</td>\n",
       "    </tr>\n",
       "  </tbody>\n",
       "</table>\n",
       "</div>"
      ],
      "text/plain": [
       "      PRODUCT  DRAW NUMBER  SEQUENCE NUMBER  DRAW DATE  NUMBER DRAWN 1  \\\n",
       "3662      649         3589                0  6/13/2018               6   \n",
       "3663      649         3590                0  6/16/2018               2   \n",
       "3664      649         3591                0  6/20/2018              14   \n",
       "\n",
       "      NUMBER DRAWN 2  NUMBER DRAWN 3  NUMBER DRAWN 4  NUMBER DRAWN 5  \\\n",
       "3662              22              24              31              32   \n",
       "3663              15              21              31              38   \n",
       "3664              24              31              35              37   \n",
       "\n",
       "      NUMBER DRAWN 6  BONUS NUMBER  \n",
       "3662              34            16  \n",
       "3663              49             8  \n",
       "3664              48            17  "
      ]
     },
     "execution_count": 6,
     "metadata": {},
     "output_type": "execute_result"
    }
   ],
   "source": [
    "lottery_history.tail(3)"
   ]
  },
  {
   "cell_type": "markdown",
   "metadata": {},
   "source": [
    "Thanks to the dataset imported above, we now can create a function that enables users to compare their ticket against the historical lottery data in Canada and determine whether they would have ever won by now."
   ]
  },
  {
   "cell_type": "code",
   "execution_count": 7,
   "metadata": {
    "collapsed": false
   },
   "outputs": [
    {
     "data": {
      "text/plain": [
       "{3, 11, 12, 14, 41, 43}"
      ]
     },
     "execution_count": 7,
     "metadata": {},
     "output_type": "execute_result"
    }
   ],
   "source": [
    "# First, we create a function that returns every 6-number combo in the set\n",
    "def extract_numbers(index):\n",
    "    row_set = []  # We create a set in the global scope to capture all rows\n",
    "    row = lottery_history.iloc[index, 4:10]  # Index the dataframe using input\n",
    "    for number in row:\n",
    "        row_set.append(number)   # Add elements to the list\n",
    "    return set(row_set) # Return a set version of the row\n",
    "\n",
    "# This should correspond to the first row of the dataframe.\n",
    "extract_numbers(0)"
   ]
  },
  {
   "cell_type": "code",
   "execution_count": 8,
   "metadata": {
    "collapsed": false
   },
   "outputs": [],
   "source": [
    "# We now wish to use this function to extract all winning numbers\n",
    "winning_numbers = []\n",
    "for i in range(len(lottery_history)):\n",
    "    winning_set = extract_numbers(i)\n",
    "    winning_numbers.append(winning_set)"
   ]
  },
  {
   "cell_type": "code",
   "execution_count": 9,
   "metadata": {
    "collapsed": false
   },
   "outputs": [],
   "source": [
    "# We now have a list containing all the winning numbers. We convert it to a series.\n",
    "winning_series = pd.Series(data=winning_numbers, index=lottery_history['DRAW DATE'])"
   ]
  },
  {
   "cell_type": "code",
   "execution_count": 10,
   "metadata": {
    "collapsed": false
   },
   "outputs": [],
   "source": [
    "# We now are ready to write a function that checks historical occurrences\n",
    "def check_historical_occurence(number_list, winning_numbers):\n",
    "    number_set = set(number_list)  # Convert our list into a set\n",
    "    times_numbers_won = []\n",
    "    for wins in winning_numbers:  # Iterate through historical wins\n",
    "        if number_set == wins:  # If there is a match between the choice and win\n",
    "            times_numbers_won.append(True)  # Append win as a True boolean to list\n",
    "        else:\n",
    "            times_numbers_won.append(False)  # Otherwise, append a value of false\n",
    "    total_wins = sum(times_numbers_won)\n",
    "    probability = (total_wins / 3665) * 100\n",
    "    return 'Your choice of {} has won {} times. Your chance of winning with these numbers is {}'.format(number_set, total_wins, probability)"
   ]
  },
  {
   "cell_type": "code",
   "execution_count": 11,
   "metadata": {
    "collapsed": false
   },
   "outputs": [
    {
     "data": {
      "text/plain": [
       "'Your choice of {3, 41, 11, 12, 43, 14} has won 1 times. Your chance of winning with these numbers is 0.027285129604365622'"
      ]
     },
     "execution_count": 11,
     "metadata": {},
     "output_type": "execute_result"
    }
   ],
   "source": [
    "# We now test our function. Let's use the first row so we get a result\n",
    "check_historical_occurence([3, 11, 12, 14, 41, 43], winning_series)"
   ]
  },
  {
   "cell_type": "markdown",
   "metadata": {},
   "source": [
    "While this is a good start, addicts will most likely play several tickets at once in an attempt to improve their chances of winnning. We need to take this situation into account. We'll write a function that allows the user to input any number of different tickets that they want to play. "
   ]
  },
  {
   "cell_type": "code",
   "execution_count": 12,
   "metadata": {
    "collapsed": true
   },
   "outputs": [],
   "source": [
    "def multi_ticket_probability(number_of_tickets):\n",
    "    total_outcomes = combination(49, 6)  # The total number of combinations\n",
    "    successful_outcomes = number_of_tickets  # The potential times user wins\n",
    "    probability = (successful_outcomes / total_outcomes) * 100  # The prbability of winning\n",
    "    return \"Your chances of winning with {} tickets are {}% \".format(number_of_tickets, probability)"
   ]
  },
  {
   "cell_type": "code",
   "execution_count": 13,
   "metadata": {
    "collapsed": false
   },
   "outputs": [
    {
     "name": "stdout",
     "output_type": "stream",
     "text": [
      "Your chances of winning with 1 tickets are 7.151123842018516e-06% \n",
      "Your chances of winning with 10 tickets are 7.151123842018517e-05% \n",
      "Your chances of winning with 100 tickets are 0.0007151123842018516% \n",
      "Your chances of winning with 1000 tickets are 0.007151123842018516% \n",
      "Your chances of winning with 100000 tickets are 0.7151123842018516% \n",
      "Your chances of winning with 6991908 tickets are 50.0% \n",
      "Your chances of winning with 13983816 tickets are 100.0% \n"
     ]
    }
   ],
   "source": [
    "# We also wish to test our function\n",
    "tickets = [1, 10, 100, 1000, 100000, 6991908, 13983816]\n",
    "for i in tickets:\n",
    "    print(multi_ticket_probability(i))"
   ]
  },
  {
   "cell_type": "markdown",
   "metadata": {},
   "source": [
    "It should be noted here that realistically, these are EXTREMELY low odds."
   ]
  },
  {
   "cell_type": "markdown",
   "metadata": {},
   "source": [
    "Thus far, we have answered two out of our three questions in the introduction. We now wish to write a function that calculates the probability of having 2, 3, 4, or 5 winning numbers. The comments in the function below explain how we accomplish this task. \n",
    "\n",
    "This is relevant because our competition has smaller prizes where you can still earn winnnings if you have 2 - 5 numbers correct for the evening drawing. "
   ]
  },
  {
   "cell_type": "code",
   "execution_count": 14,
   "metadata": {
    "collapsed": true
   },
   "outputs": [],
   "source": [
    "def probability_less_6(integer):\n",
    "    combinations = combination(6, integer)  # These are the number of ways that we can combine integer numbers out of 6\n",
    "    successes = 49 - integer - 1  # These are the number of integers left after we have chosen our number\n",
    "    total_wins = combinations * successes  # These are the number of wins that have our integer number of digits right\n",
    "    probability = total_wins / combination(49, 6)\n",
    "    return \"The chances of winning with {} numbers right are {}\".format(integer, probability)"
   ]
  },
  {
   "cell_type": "code",
   "execution_count": 15,
   "metadata": {
    "collapsed": false
   },
   "outputs": [
    {
     "name": "stdout",
     "output_type": "stream",
     "text": [
      "The chances of winning with 2 numbers right are 4.9342754509927765e-05\n",
      "The chances of winning with 3 numbers right are 6.436011457816664e-05\n",
      "The chances of winning with 4 numbers right are 4.719741735732221e-05\n",
      "The chances of winning with 5 numbers right are 1.8449899512407772e-05\n"
     ]
    }
   ],
   "source": [
    "# Let's test out our new function\n",
    "integers = [2, 3, 4, 5]\n",
    "for i in integers:\n",
    "    print(probability_less_6(i))"
   ]
  },
  {
   "cell_type": "markdown",
   "metadata": {},
   "source": [
    "## Conclusion"
   ]
  },
  {
   "cell_type": "markdown",
   "metadata": {},
   "source": [
    "For this project, we were able to create functions that would be useful for showing gambling addicts just exactly how low their chances of winning are. We covered multiple scenarios. From choosing a single ticket, to purchasing hundreds of thousands, the probability a gambler has to actually win the prize for a game of 6/49 is very low. \n",
    "\n",
    "Unfortunatley, I still have a feeling that even though an addict knows how low the probability of them winning is, they will still do it anyway with the rationale of \"There is always a chance\". \n",
    "\n",
    "As Data Scientists, there is nothing we can do about that. "
   ]
  },
  {
   "cell_type": "code",
   "execution_count": null,
   "metadata": {
    "collapsed": true
   },
   "outputs": [],
   "source": []
  }
 ],
 "metadata": {
  "kernelspec": {
   "display_name": "Python 3",
   "language": "python",
   "name": "python3"
  },
  "language_info": {
   "codemirror_mode": {
    "name": "ipython",
    "version": 3
   },
   "file_extension": ".py",
   "mimetype": "text/x-python",
   "name": "python",
   "nbconvert_exporter": "python",
   "pygments_lexer": "ipython3",
   "version": "3.4.3"
  }
 },
 "nbformat": 4,
 "nbformat_minor": 2
}
